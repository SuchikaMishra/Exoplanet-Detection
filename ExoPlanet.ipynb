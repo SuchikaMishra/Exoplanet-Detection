{
 "cells": [
  {
   "cell_type": "code",
   "execution_count": 2,
   "id": "c287d4af-7b09-48b0-a495-c97c14bd6dd4",
   "metadata": {},
   "outputs": [],
   "source": [
    "import pandas as pd\n",
    "import numpy as np\n",
    "import os\n",
    "import kagglehub\n",
    "from sklearn.model_selection import train_test_split, GridSearchCV\n",
    "from sklearn.ensemble import RandomForestClassifier\n",
    "from sklearn.preprocessing import MinMaxScaler\n",
    "from sklearn.metrics import accuracy_score, classification_report, confusion_matrix\n",
    "from imblearn.over_sampling import SMOTE\n",
    "import matplotlib.pyplot as plt\n",
    "import seaborn as sns"
   ]
  },
  {
   "cell_type": "code",
   "execution_count": 4,
   "id": "dae2ef3b-8a13-4bb5-a583-c3654ce82398",
   "metadata": {},
   "outputs": [
    {
     "name": "stdout",
     "output_type": "stream",
     "text": [
      "Downloading from https://www.kaggle.com/api/v1/datasets/download/nasa/kepler-exoplanet-search-results?dataset_version_number=2...\n"
     ]
    },
    {
     "name": "stderr",
     "output_type": "stream",
     "text": [
      "100%|███████████████████████████████████████| 1.16M/1.16M [00:01<00:00, 759kB/s]"
     ]
    },
    {
     "name": "stdout",
     "output_type": "stream",
     "text": [
      "Extracting files...\n",
      "Dataset downloaded and loaded successfully.\n"
     ]
    },
    {
     "name": "stderr",
     "output_type": "stream",
     "text": [
      "\n"
     ]
    }
   ],
   "source": [
    "path = kagglehub.dataset_download(\"nasa/kepler-exoplanet-search-results\")\n",
    "df = pd.read_csv(os.path.join(path, \"cumulative.csv\"))\n",
    "print(\"Dataset downloaded and loaded successfully.\")"
   ]
  },
  {
   "cell_type": "code",
   "execution_count": 6,
   "id": "d450d2f2-ef17-4f60-b992-00558dbb3d1c",
   "metadata": {},
   "outputs": [],
   "source": [
    "# Drop unnecessary columns\n",
    "df = df.drop(columns=['rowid', 'kepid', 'kepoi_name', 'kepler_name', 'koi_pdisposition', 'koi_score', 'koi_tce_delivname'])\n",
    "\n",
    "# Drop columns with a high percentage of missing values\n",
    "df = df.dropna(axis='columns', how='all')\n",
    "df = df.dropna()"
   ]
  },
  {
   "cell_type": "code",
   "execution_count": 8,
   "id": "0e0fbd28-f222-4522-b316-f1d9d2b9e54e",
   "metadata": {},
   "outputs": [],
   "source": [
    "# Select features based on domain knowledge and feature importance observed in similar studies.\n",
    "# We will keep features that describe the transit properties and stellar parameters.\n",
    "features_to_keep = [\n",
    "    'koi_disposition', 'koi_fpflag_nt', 'koi_fpflag_ss', 'koi_fpflag_co',\n",
    "    'koi_fpflag_ec', 'koi_period', 'koi_period_err1', 'koi_period_err2',\n",
    "    'koi_time0bk', 'koi_time0bk_err1', 'koi_time0bk_err2', 'koi_impact',\n",
    "    'koi_impact_err1', 'koi_impact_err2', 'koi_duration', 'koi_duration_err1',\n",
    "    'koi_duration_err2', 'koi_depth', 'koi_depth_err1', 'koi_depth_err2',\n",
    "    'koi_prad', 'koi_prad_err1', 'koi_prad_err2', 'koi_teq', 'koi_insol',\n",
    "    'koi_insol_err1', 'koi_insol_err2', 'koi_model_snr', 'koi_steff',\n",
    "    'koi_steff_err1', 'koi_steff_err2', 'koi_slogg', 'koi_slogg_err1',\n",
    "    'koi_slogg_err2', 'koi_srad', 'koi_srad_err1', 'koi_srad_err2', 'ra',\n",
    "    'dec', 'koi_kepmag'\n",
    "]\n",
    "\n",
    "df = df[features_to_keep]"
   ]
  },
  {
   "cell_type": "code",
   "execution_count": 10,
   "id": "e47b70f0-a97a-4a6e-a5d1-a1f9bd46770f",
   "metadata": {},
   "outputs": [],
   "source": [
    "# Encode the target variable 'koi_disposition'\n",
    "# We are interested in 'CONFIRMED' vs 'FALSE POSITIVE'\n",
    "df = df[df['koi_disposition'] != 'CANDIDATE']\n",
    "le = {'CONFIRMED': 1, 'FALSE POSITIVE': 0}\n",
    "df['koi_disposition'] = df['koi_disposition'].map(le)"
   ]
  },
  {
   "cell_type": "code",
   "execution_count": 12,
   "id": "01a40634-8ea8-46e6-90e3-0e60c654b68b",
   "metadata": {},
   "outputs": [],
   "source": [
    "# Separate features (X) and target (y)\n",
    "X = df.drop('koi_disposition', axis=1)\n",
    "y = df['koi_disposition']"
   ]
  },
  {
   "cell_type": "code",
   "execution_count": 14,
   "id": "2652e378-e322-497b-ac55-26c5c1f500e6",
   "metadata": {},
   "outputs": [
    {
     "name": "stdout",
     "output_type": "stream",
     "text": [
      "Handling class imbalance with SMOTE...\n",
      "Class imbalance handled.\n"
     ]
    }
   ],
   "source": [
    "# Using SMOTE to oversample the minority class (CONFIRMED exoplanets)\n",
    "print(\"Handling class imbalance with SMOTE...\")\n",
    "smote = SMOTE(random_state=42)\n",
    "X_res, y_res = smote.fit_resample(X, y)\n",
    "print(\"Class imbalance handled.\")"
   ]
  },
  {
   "cell_type": "code",
   "execution_count": 16,
   "id": "397c8ba0-5fc0-42f0-bb77-38d6a3d778ce",
   "metadata": {},
   "outputs": [],
   "source": [
    "# Split the data into training and testing sets\n",
    "X_train, X_test, y_train, y_test = train_test_split(X_res, y_res, test_size=0.2, random_state=42, stratify=y_res)"
   ]
  },
  {
   "cell_type": "code",
   "execution_count": 18,
   "id": "f84e1ec1-16e7-488a-ae73-103db60bc985",
   "metadata": {},
   "outputs": [],
   "source": [
    "# Scale the features using MinMaxScaler\n",
    "scaler = MinMaxScaler()\n",
    "X_train_scaled = scaler.fit_transform(X_train)\n",
    "X_test_scaled = scaler.transform(X_test)"
   ]
  },
  {
   "cell_type": "code",
   "execution_count": 20,
   "id": "1f793eb5-45a7-438b-ae12-6ca8197b5643",
   "metadata": {},
   "outputs": [],
   "source": [
    "# Initialize the Random Forest Classifier\n",
    "rf = RandomForestClassifier(random_state=42)"
   ]
  },
  {
   "cell_type": "code",
   "execution_count": 22,
   "id": "6fd5ab4f-7b69-4154-8603-13b84de59ca1",
   "metadata": {},
   "outputs": [],
   "source": [
    "# Define the parameter grid for GridSearchCV\n",
    "param_grid = {\n",
    "    'n_estimators': [200, 300],\n",
    "    'max_depth': [20, 30],\n",
    "    'min_samples_leaf': [1, 2],\n",
    "    'min_samples_split': [2, 5]\n",
    "}"
   ]
  },
  {
   "cell_type": "code",
   "execution_count": 27,
   "id": "f0eb8292-435a-43d4-9851-3f1a918dbe8b",
   "metadata": {},
   "outputs": [
    {
     "name": "stdout",
     "output_type": "stream",
     "text": [
      "Starting hyperparameter tuning with GridSearchCV...\n",
      "Fitting 5 folds for each of 16 candidates, totalling 80 fits\n",
      "Hyperparameter tuning complete.\n"
     ]
    }
   ],
   "source": [
    "# Use GridSearchCV to find the best hyperparameters\n",
    "print(\"Starting hyperparameter tuning with GridSearchCV...\")\n",
    "grid_search = GridSearchCV(estimator=rf, param_grid=param_grid, cv=5, n_jobs=-1, verbose=2)\n",
    "grid_search.fit(X_train_scaled, y_train)\n",
    "print(\"Hyperparameter tuning complete.\")"
   ]
  },
  {
   "cell_type": "code",
   "execution_count": 29,
   "id": "febb589d-eddf-40e3-ac2e-cdcc2719a2f8",
   "metadata": {},
   "outputs": [],
   "source": [
    "# Get the best estimator\n",
    "best_rf = grid_search.best_estimator_"
   ]
  },
  {
   "cell_type": "code",
   "execution_count": 31,
   "id": "3ab83787-9138-44dd-adcd-93329269f79e",
   "metadata": {},
   "outputs": [],
   "source": [
    "# Make predictions on the test set\n",
    "y_pred = best_rf.predict(X_test_scaled)"
   ]
  },
  {
   "cell_type": "code",
   "execution_count": 33,
   "id": "29230711-6246-4b30-88f9-2f7c87cf021e",
   "metadata": {},
   "outputs": [
    {
     "name": "stdout",
     "output_type": "stream",
     "text": [
      "\n",
      "Model Accuracy: 99.48%\n"
     ]
    }
   ],
   "source": [
    "# Calculate accuracy\n",
    "accuracy = accuracy_score(y_test, y_pred)\n",
    "print(f\"\\nModel Accuracy: {accuracy * 100:.2f}%\")"
   ]
  },
  {
   "cell_type": "code",
   "execution_count": 35,
   "id": "7e33adda-1e92-4974-912f-aa84eb3d9075",
   "metadata": {},
   "outputs": [
    {
     "name": "stdout",
     "output_type": "stream",
     "text": [
      "\n",
      "Classification Report:\n",
      "              precision    recall  f1-score   support\n",
      "\n",
      "           0       0.99      1.00      0.99       872\n",
      "           1       1.00      0.99      0.99       872\n",
      "\n",
      "    accuracy                           0.99      1744\n",
      "   macro avg       0.99      0.99      0.99      1744\n",
      "weighted avg       0.99      0.99      0.99      1744\n",
      "\n"
     ]
    }
   ],
   "source": [
    "# Print classification report\n",
    "print(\"\\nClassification Report:\")\n",
    "print(classification_report(y_test, y_pred))"
   ]
  },
  {
   "cell_type": "code",
   "execution_count": 37,
   "id": "2e53d2fc-a0af-4951-82b4-2f0955ef2bcf",
   "metadata": {},
   "outputs": [
    {
     "name": "stdout",
     "output_type": "stream",
     "text": [
      "\n",
      "Confusion Matrix:\n"
     ]
    },
    {
     "data": {
      "image/png": "[encoded data removed]",
      "text/plain": [
       "<Figure size 800x600 with 2 Axes>"
      ]
     },
     "metadata": {},
     "output_type": "display_data"
    }
   ],
   "source": [
    "# Display confusion matrix\n",
    "print(\"\\nConfusion Matrix:\")\n",
    "cm = confusion_matrix(y_test, y_pred)\n",
    "plt.figure(figsize=(8, 6))\n",
    "sns.heatmap(cm, annot=True, fmt='d', cmap='Blues', xticklabels=['False Positive', 'Confirmed'], yticklabels=['False Positive', 'Confirmed'])\n",
    "plt.xlabel('Predicted')\n",
    "plt.ylabel('Actual')\n",
    "plt.title('Confusion Matrix')\n",
    "plt.show()"
   ]
  },
  {
   "cell_type": "code",
   "execution_count": 39,
   "id": "90b5e801-702c-4c51-98f4-a4f8ef0df096",
   "metadata": {},
   "outputs": [],
   "source": [
    "# --- Feature Importance ---\n",
    "feature_importances = pd.DataFrame(best_rf.feature_importances_,\n",
    "                                   index = X_train.columns,\n",
    "                                   columns=['importance']).sort_values('importance', ascending=False)"
   ]
  },
  {
   "cell_type": "code",
   "execution_count": 41,
   "id": "846fecd7-e666-4dd2-a2c0-b28ab2e430bd",
   "metadata": {},
   "outputs": [
    {
     "name": "stdout",
     "output_type": "stream",
     "text": [
      "\n",
      "Top 10 Feature Importances:\n",
      "                   importance\n",
      "koi_fpflag_co        0.146544\n",
      "koi_fpflag_ss        0.097747\n",
      "koi_prad             0.067054\n",
      "koi_fpflag_nt        0.059536\n",
      "koi_steff_err1       0.057596\n",
      "koi_steff_err2       0.052425\n",
      "koi_prad_err2        0.050139\n",
      "koi_prad_err1        0.048698\n",
      "koi_fpflag_ec        0.043369\n",
      "koi_duration_err2    0.037510\n"
     ]
    }
   ],
   "source": [
    "print(\"\\nTop 10 Feature Importances:\")\n",
    "print(feature_importances.head(10))"
   ]
  },
  {
   "cell_type": "code",
   "execution_count": null,
   "id": "bf265a7b-ab15-4444-b1f3-4d984f84004c",
   "metadata": {},
   "outputs": [],
   "source": []
  }
 ],
 "metadata": {
  "kernelspec": {
   "display_name": "Python 3 (ipykernel)",
   "language": "python",
   "name": "python3"
  },
  "language_info": {
   "codemirror_mode": {
    "name": "ipython",
    "version": 3
   },
   "file_extension": ".py",
   "mimetype": "text/x-python",
   "name": "python",
   "nbconvert_exporter": "python",
   "pygments_lexer": "ipython3",
   "version": "3.11.7"
  }
 },
 "nbformat": 4,
 "nbformat_minor": 5
}
